{
 "cells": [
  {
   "cell_type": "markdown",
   "metadata": {},
   "source": [
    "# Dimension reduction and Clustering"
   ]
  },
  {
   "cell_type": "code",
   "execution_count": 2,
   "metadata": {},
   "outputs": [],
   "source": [
    "# house temp vs feed per animal\n",
    "import numpy as np  # linear algebra\n",
    "import pandas as pd # data processing, CSV file I/O (e.g. pd.read_csv)\n",
    "import matplotlib.pyplot as plt\n",
    "import glob #Used to read all present files\n",
    "# pd.set_option('display.max_rows', 1000)"
   ]
  },
  {
   "cell_type": "code",
   "execution_count": 20,
   "metadata": {},
   "outputs": [
    {
     "ename": "ValueError",
     "evalue": "Expected 2D array, got 1D array instead:\narray=[29.1 27.4 24.2 29.7 24.4 23.9 25.6 24.9 21.7 22.1 24.7 25.6 26.9 27.5\n 26.8 27.1 25.7 23.9 30.1 24.4 26.  24.3 24.9 27.5 20.7 24.9 25.5 28.2\n 26.9 22.7 25.3 20.9 31.6 24.3 24.8 26.1 30.7 28.  28.2 24.6 24.8 20.6\n 31.2 24.  31.4 24.  24.8 23.1 23.7 20.  22.6 26.2 26.  22.2 21.8 28.\n 25.2 29.8 31.6 27.4 24.5 26.5 29.  32.  26.3 28.7 22.2 22.1 27.8 23.7\n 26.  23.9 25.3 24.9 27.9 31.4 30.  25.  26.3 25.  21.3 26.  23.9 22.\n 21.9 23.6 25.5 27.1 27.7 26.  29.1 27.7 29.5 27.  25.2 28.  23.6 25.4\n 23.3 23.  29.7 20.8 22.5 28.6 27.  24.1 27.3 24.2 25.1 24.4 23.8 25.8\n 25.4 27.2 21.9 26.1 26.8 21.6 26.3 31.8 24.3 30.7 22.9 21.2 26.4 29.8\n 26.1 26.5 23.7 23.8 30.5 23.9 26.5 27.6 27.6 29.5 22.  26.  25.1 25.1\n 28.4 29.  30.3 25.  28.7 25.  27.9 25.  26.  24.6 21.2 24.6 25.4 24.4\n 15.8 24.  26.8 24.8 23.9 27.2 28.7 23.2 32.9 23.  25.  21.4 23.2 23.8\n 27.3 21.6 30.  30.5 27.4 25.  24.6 31.1 25.3 24.7 25.7 26.4 24.  23.6\n 27.6 20.7 25.  21.4 27.8 24.1 30.4 21.8 26.2 23.  24.1 27.9 24.2 24.7\n 30.9 23.4 29.9 31.2 27.4 28.4 26.4 24.  23.4 26.8 30.5 25.2 25.8 21.6\n 24.  29.2 22.1 25.  30.2 26.9 24.6 26.1 29.3 24.9 25.8 15.6 24.3 26.4\n 23.1 27.6 24.7 23.  25.6 21.1 27.4 28.3 28.6 26.  22.6 29.  25.5 24.\n 24.2 25.6 25.2 30.2 22.1 24.7 26.7 30.1 24.6 24.3 25.  24.2 26.  23.9\n 23.8 31.2 26.8 25.3 27.5 26.5 24.6 28.6 30.  20.  26.9 26.5 30.3 22.3\n 22.4 30.9 26.9 25.8 28.9 22.8 27.8 22.  22.2 22.4 26.8 24.  25.6 23.\n 25.  22.9 27.2 27.  26.5 21.7 24.6 20.9 24.3 25.4 23.4 24.8 31.7 28.7].\nReshape your data either using array.reshape(-1, 1) if your data has a single feature or array.reshape(1, -1) if it contains a single sample.",
     "output_type": "error",
     "traceback": [
      "\u001b[0;31m---------------------------------------------------------------------------\u001b[0m",
      "\u001b[0;31mValueError\u001b[0m                                Traceback (most recent call last)",
      "\u001b[0;32m<ipython-input-20-420474cf6699>\u001b[0m in \u001b[0;36m<module>\u001b[0;34m()\u001b[0m\n\u001b[1;32m      6\u001b[0m \u001b[0;32mfrom\u001b[0m \u001b[0msklearn\u001b[0m\u001b[0;34m.\u001b[0m\u001b[0mlinear_model\u001b[0m \u001b[0;32mimport\u001b[0m \u001b[0mLinearRegression\u001b[0m\u001b[0;34m\u001b[0m\u001b[0;34m\u001b[0m\u001b[0m\n\u001b[1;32m      7\u001b[0m \u001b[0mregressor\u001b[0m \u001b[0;34m=\u001b[0m \u001b[0mLinearRegression\u001b[0m\u001b[0;34m(\u001b[0m\u001b[0;34m)\u001b[0m\u001b[0;34m\u001b[0m\u001b[0;34m\u001b[0m\u001b[0m\n\u001b[0;32m----> 8\u001b[0;31m \u001b[0mregressor\u001b[0m\u001b[0;34m.\u001b[0m\u001b[0mfit\u001b[0m\u001b[0;34m(\u001b[0m\u001b[0mx_train\u001b[0m\u001b[0;34m,\u001b[0m \u001b[0my_train\u001b[0m\u001b[0;34m)\u001b[0m\u001b[0;34m\u001b[0m\u001b[0;34m\u001b[0m\u001b[0m\n\u001b[0m\u001b[1;32m      9\u001b[0m \u001b[0;34m\u001b[0m\u001b[0m\n\u001b[1;32m     10\u001b[0m \u001b[0mviz_train\u001b[0m \u001b[0;34m=\u001b[0m \u001b[0mplt\u001b[0m\u001b[0;34m\u001b[0m\u001b[0;34m\u001b[0m\u001b[0m\n",
      "\u001b[0;32m/home/jeroen/.local/lib/python3.6/site-packages/sklearn/linear_model/base.py\u001b[0m in \u001b[0;36mfit\u001b[0;34m(self, X, y, sample_weight)\u001b[0m\n\u001b[1;32m    461\u001b[0m         \u001b[0mn_jobs_\u001b[0m \u001b[0;34m=\u001b[0m \u001b[0mself\u001b[0m\u001b[0;34m.\u001b[0m\u001b[0mn_jobs\u001b[0m\u001b[0;34m\u001b[0m\u001b[0;34m\u001b[0m\u001b[0m\n\u001b[1;32m    462\u001b[0m         X, y = check_X_y(X, y, accept_sparse=['csr', 'csc', 'coo'],\n\u001b[0;32m--> 463\u001b[0;31m                          y_numeric=True, multi_output=True)\n\u001b[0m\u001b[1;32m    464\u001b[0m \u001b[0;34m\u001b[0m\u001b[0m\n\u001b[1;32m    465\u001b[0m         \u001b[0;32mif\u001b[0m \u001b[0msample_weight\u001b[0m \u001b[0;32mis\u001b[0m \u001b[0;32mnot\u001b[0m \u001b[0;32mNone\u001b[0m \u001b[0;32mand\u001b[0m \u001b[0mnp\u001b[0m\u001b[0;34m.\u001b[0m\u001b[0matleast_1d\u001b[0m\u001b[0;34m(\u001b[0m\u001b[0msample_weight\u001b[0m\u001b[0;34m)\u001b[0m\u001b[0;34m.\u001b[0m\u001b[0mndim\u001b[0m \u001b[0;34m>\u001b[0m \u001b[0;36m1\u001b[0m\u001b[0;34m:\u001b[0m\u001b[0;34m\u001b[0m\u001b[0;34m\u001b[0m\u001b[0m\n",
      "\u001b[0;32m/home/jeroen/.local/lib/python3.6/site-packages/sklearn/utils/validation.py\u001b[0m in \u001b[0;36mcheck_X_y\u001b[0;34m(X, y, accept_sparse, accept_large_sparse, dtype, order, copy, force_all_finite, ensure_2d, allow_nd, multi_output, ensure_min_samples, ensure_min_features, y_numeric, warn_on_dtype, estimator)\u001b[0m\n\u001b[1;32m    717\u001b[0m                     \u001b[0mensure_min_features\u001b[0m\u001b[0;34m=\u001b[0m\u001b[0mensure_min_features\u001b[0m\u001b[0;34m,\u001b[0m\u001b[0;34m\u001b[0m\u001b[0;34m\u001b[0m\u001b[0m\n\u001b[1;32m    718\u001b[0m                     \u001b[0mwarn_on_dtype\u001b[0m\u001b[0;34m=\u001b[0m\u001b[0mwarn_on_dtype\u001b[0m\u001b[0;34m,\u001b[0m\u001b[0;34m\u001b[0m\u001b[0;34m\u001b[0m\u001b[0m\n\u001b[0;32m--> 719\u001b[0;31m                     estimator=estimator)\n\u001b[0m\u001b[1;32m    720\u001b[0m     \u001b[0;32mif\u001b[0m \u001b[0mmulti_output\u001b[0m\u001b[0;34m:\u001b[0m\u001b[0;34m\u001b[0m\u001b[0;34m\u001b[0m\u001b[0m\n\u001b[1;32m    721\u001b[0m         y = check_array(y, 'csr', force_all_finite=True, ensure_2d=False,\n",
      "\u001b[0;32m/home/jeroen/.local/lib/python3.6/site-packages/sklearn/utils/validation.py\u001b[0m in \u001b[0;36mcheck_array\u001b[0;34m(array, accept_sparse, accept_large_sparse, dtype, order, copy, force_all_finite, ensure_2d, allow_nd, ensure_min_samples, ensure_min_features, warn_on_dtype, estimator)\u001b[0m\n\u001b[1;32m    519\u001b[0m                     \u001b[0;34m\"Reshape your data either using array.reshape(-1, 1) if \"\u001b[0m\u001b[0;34m\u001b[0m\u001b[0;34m\u001b[0m\u001b[0m\n\u001b[1;32m    520\u001b[0m                     \u001b[0;34m\"your data has a single feature or array.reshape(1, -1) \"\u001b[0m\u001b[0;34m\u001b[0m\u001b[0;34m\u001b[0m\u001b[0m\n\u001b[0;32m--> 521\u001b[0;31m                     \"if it contains a single sample.\".format(array))\n\u001b[0m\u001b[1;32m    522\u001b[0m \u001b[0;34m\u001b[0m\u001b[0m\n\u001b[1;32m    523\u001b[0m         \u001b[0;31m# in the future np.flexible dtypes will be handled like object dtypes\u001b[0m\u001b[0;34m\u001b[0m\u001b[0;34m\u001b[0m\u001b[0;34m\u001b[0m\u001b[0m\n",
      "\u001b[0;31mValueError\u001b[0m: Expected 2D array, got 1D array instead:\narray=[29.1 27.4 24.2 29.7 24.4 23.9 25.6 24.9 21.7 22.1 24.7 25.6 26.9 27.5\n 26.8 27.1 25.7 23.9 30.1 24.4 26.  24.3 24.9 27.5 20.7 24.9 25.5 28.2\n 26.9 22.7 25.3 20.9 31.6 24.3 24.8 26.1 30.7 28.  28.2 24.6 24.8 20.6\n 31.2 24.  31.4 24.  24.8 23.1 23.7 20.  22.6 26.2 26.  22.2 21.8 28.\n 25.2 29.8 31.6 27.4 24.5 26.5 29.  32.  26.3 28.7 22.2 22.1 27.8 23.7\n 26.  23.9 25.3 24.9 27.9 31.4 30.  25.  26.3 25.  21.3 26.  23.9 22.\n 21.9 23.6 25.5 27.1 27.7 26.  29.1 27.7 29.5 27.  25.2 28.  23.6 25.4\n 23.3 23.  29.7 20.8 22.5 28.6 27.  24.1 27.3 24.2 25.1 24.4 23.8 25.8\n 25.4 27.2 21.9 26.1 26.8 21.6 26.3 31.8 24.3 30.7 22.9 21.2 26.4 29.8\n 26.1 26.5 23.7 23.8 30.5 23.9 26.5 27.6 27.6 29.5 22.  26.  25.1 25.1\n 28.4 29.  30.3 25.  28.7 25.  27.9 25.  26.  24.6 21.2 24.6 25.4 24.4\n 15.8 24.  26.8 24.8 23.9 27.2 28.7 23.2 32.9 23.  25.  21.4 23.2 23.8\n 27.3 21.6 30.  30.5 27.4 25.  24.6 31.1 25.3 24.7 25.7 26.4 24.  23.6\n 27.6 20.7 25.  21.4 27.8 24.1 30.4 21.8 26.2 23.  24.1 27.9 24.2 24.7\n 30.9 23.4 29.9 31.2 27.4 28.4 26.4 24.  23.4 26.8 30.5 25.2 25.8 21.6\n 24.  29.2 22.1 25.  30.2 26.9 24.6 26.1 29.3 24.9 25.8 15.6 24.3 26.4\n 23.1 27.6 24.7 23.  25.6 21.1 27.4 28.3 28.6 26.  22.6 29.  25.5 24.\n 24.2 25.6 25.2 30.2 22.1 24.7 26.7 30.1 24.6 24.3 25.  24.2 26.  23.9\n 23.8 31.2 26.8 25.3 27.5 26.5 24.6 28.6 30.  20.  26.9 26.5 30.3 22.3\n 22.4 30.9 26.9 25.8 28.9 22.8 27.8 22.  22.2 22.4 26.8 24.  25.6 23.\n 25.  22.9 27.2 27.  26.5 21.7 24.6 20.9 24.3 25.4 23.4 24.8 31.7 28.7].\nReshape your data either using array.reshape(-1, 1) if your data has a single feature or array.reshape(1, -1) if it contains a single sample."
     ]
    }
   ],
   "source": [
    "data=pd.read_excel(\"./data/airport_line_airport_line_house_1_fixed.xlsx\", skiprows = range(0, 1))\n",
    "x = data.iloc[:, 7] # Average house temperature\n",
    "y = data.iloc[:, 10] # Feed per animal\n",
    "from sklearn.model_selection import train_test_split \n",
    "x_train, x_test, y_train, y_test = train_test_split(x, y, test_size=1/3, random_state=0)\n",
    "from sklearn.linear_model import LinearRegression\n",
    "regressor = LinearRegression()\n",
    "regressor.fit(x_train, y_train)\n",
    "\n",
    "viz_train = plt\n",
    "viz_train.scatter(X_train, y_train, color='red')\n",
    "viz_train.plot(X_train, regressor.predict(X_train), color='blue')\n",
    "viz_train.title('Avg house temp VS Feed per animal(Training set)')\n",
    "viz_train.xlabel('Avg house temp')\n",
    "viz_train.ylabel('Feed per animal')\n",
    "viz_train.show()\n",
    "\n",
    "# Visualizing the Test set results\n",
    "viz_test = plt\n",
    "viz_test.scatter(X_test, y_test, color='red')\n",
    "viz_test.plot(X_train, regressor.predict(X_train), color='blue')\n",
    "viz_test.title('Avg house temp VS Feed per animal (Test set)')\n",
    "viz_test.xlabel('Avg house temp')\n",
    "viz_test.ylabel('Feed per animal')\n",
    "viz_test.show()\n",
    "print(y)"
   ]
  },
  {
   "cell_type": "code",
   "execution_count": 3,
   "metadata": {},
   "outputs": [
    {
     "name": "stdout",
     "output_type": "stream",
     "text": [
      "Animal weight - Growth per day  Animal weight - Normality         0.124923\n",
      "                                Animal weight - Uniformity        0.263230\n",
      "                                Animal weight                     0.167933\n",
      "                                Average inside RH                 0.030630\n",
      "                                Average outside RH                0.418960\n",
      "                                Average outside temperature       0.091149\n",
      "                                Feed per animal                   0.439869\n",
      "                                Feed conversion (FC)              0.040307\n",
      "                                Number of animals                 0.291039\n",
      "                                Water feed conversion (W:F)       0.040285\n",
      "                                Water per animal                  0.485426\n",
      "Animal weight - Normality       Animal weight - Growth per day    0.124923\n",
      "                                Animal weight - Uniformity        0.095182\n",
      "                                Animal weight                     0.990990\n",
      "                                Average inside RH                 0.092396\n",
      "                                Average outside RH                0.038806\n",
      "                                Animal age                        0.874398\n",
      "                                Feed per animal                   0.295468\n",
      "                                Feed conversion (FC)              0.108526\n",
      "                                Water per animal                  0.231423\n",
      "Animal weight - Uniformity      Animal weight - Growth per day    0.263230\n",
      "                                Animal weight - Normality         0.095182\n",
      "                                Animal weight                     0.104886\n",
      "                                Average inside RH                 0.152907\n",
      "                                Average outside RH                0.089141\n",
      "                                Feed per animal                   0.085171\n",
      "                                Feed conversion (FC)              0.021732\n",
      "                                Water per animal                  0.095224\n",
      "Animal weight                   Animal weight - Growth per day    0.167933\n",
      "                                Animal weight - Normality         0.990990\n",
      "                                                                    ...   \n",
      "Feed conversion (FC)            Animal weight - Uniformity        0.021732\n",
      "                                Animal weight                     0.102310\n",
      "                                Average inside RH                 0.015705\n",
      "                                Average outside RH                0.084003\n",
      "                                Average outside temperature       0.005638\n",
      "                                Animal age                        0.075550\n",
      "                                Feed per animal                   0.225878\n",
      "                                Number of animals                 0.043169\n",
      "                                Water per animal                  0.067982\n",
      "Number of animals               Animal weight - Growth per day    0.291039\n",
      "                                Average outside RH                0.066492\n",
      "                                Average house temperature         0.243139\n",
      "                                Average outside temperature       0.034134\n",
      "                                Feed conversion (FC)              0.043169\n",
      "                                Water feed conversion (W:F)       0.230116\n",
      "Water feed conversion (W:F)     Animal weight - Growth per day    0.040285\n",
      "                                Average inside RH                 0.047928\n",
      "                                Average house temperature         0.323377\n",
      "                                Average outside temperature       0.053050\n",
      "                                Number of animals                 0.230116\n",
      "Water per animal                Animal weight - Growth per day    0.485426\n",
      "                                Animal weight - Normality         0.231423\n",
      "                                Animal weight - Uniformity        0.095224\n",
      "                                Animal weight                     0.311049\n",
      "                                Average inside RH                 0.239337\n",
      "                                Average outside RH                0.614769\n",
      "                                Average outside temperature       0.109119\n",
      "                                Animal age                        0.078302\n",
      "                                Feed per animal                   0.748049\n",
      "                                Feed conversion (FC)              0.067982\n",
      "Length: 118, dtype: float64\n"
     ]
    }
   ],
   "source": [
    "highCorr = corr[corr>0]\n",
    "print(highCorr[highCorr<1].stack())\n",
    "highCorr[highCorr<1].stack().to_csv(\"./data/correlation.csv\")\n",
    "highCorr[highCorr<1].stack().to_string(\"./data/correlation.txt\")"
   ]
  },
  {
   "cell_type": "code",
   "execution_count": 4,
   "metadata": {},
   "outputs": [],
   "source": [
    "# output = open(\"./data/correlation.txt\",\"w+\")\n",
    "# output.write(highCorr[highCorr<1].stack())\n",
    "# output.close()\n",
    "\n"
   ]
  },
  {
   "cell_type": "code",
   "execution_count": 5,
   "metadata": {},
   "outputs": [],
   "source": [
    "# corr.stack().to_csv(\"./data/correlation.csv\",encoding='utf-8-sig')"
   ]
  },
  {
   "cell_type": "code",
   "execution_count": 2,
   "metadata": {},
   "outputs": [
    {
     "ename": "TypeError",
     "evalue": "list indices must be integers or slices, not numpy.float64",
     "output_type": "error",
     "traceback": [
      "\u001b[0;31m---------------------------------------------------------------------------\u001b[0m",
      "\u001b[0;31mTypeError\u001b[0m                                 Traceback (most recent call last)",
      "\u001b[0;32m<ipython-input-2-61cdb66af652>\u001b[0m in \u001b[0;36m<module>\u001b[0;34m()\u001b[0m\n\u001b[1;32m     21\u001b[0m \u001b[0mX_embedded\u001b[0m \u001b[0;34m=\u001b[0m \u001b[0mTSNE\u001b[0m\u001b[0;34m(\u001b[0m\u001b[0mn_components\u001b[0m\u001b[0;34m=\u001b[0m\u001b[0;36m3\u001b[0m\u001b[0;34m)\u001b[0m\u001b[0;34m.\u001b[0m\u001b[0mfit_transform\u001b[0m\u001b[0;34m(\u001b[0m\u001b[0mx\u001b[0m\u001b[0;34m)\u001b[0m\u001b[0;34m\u001b[0m\u001b[0;34m\u001b[0m\u001b[0m\n\u001b[1;32m     22\u001b[0m \u001b[0mpalette\u001b[0m \u001b[0;34m=\u001b[0m \u001b[0;34m[\u001b[0m\u001b[0;34m'red'\u001b[0m\u001b[0;34m,\u001b[0m \u001b[0;34m'green'\u001b[0m\u001b[0;34m,\u001b[0m \u001b[0;34m'blue'\u001b[0m\u001b[0;34m,\u001b[0m \u001b[0;34m'gray'\u001b[0m\u001b[0;34m,\u001b[0m \u001b[0;34m'violet'\u001b[0m\u001b[0;34m,\u001b[0m \u001b[0;34m'black'\u001b[0m\u001b[0;34m,\u001b[0m \u001b[0;34m'yellow'\u001b[0m\u001b[0;34m,\u001b[0m \u001b[0;34m'brown'\u001b[0m\u001b[0;34m,\u001b[0m \u001b[0;34m'coral'\u001b[0m\u001b[0;34m,\u001b[0m \u001b[0;34m'darkgreen'\u001b[0m\u001b[0;34m,\u001b[0m \u001b[0;34m'cyan'\u001b[0m\u001b[0;34m]\u001b[0m\u001b[0;34m\u001b[0m\u001b[0;34m\u001b[0m\u001b[0m\n\u001b[0;32m---> 23\u001b[0;31m \u001b[0mcolors\u001b[0m \u001b[0;34m=\u001b[0m \u001b[0mlist\u001b[0m\u001b[0;34m(\u001b[0m\u001b[0mmap\u001b[0m\u001b[0;34m(\u001b[0m\u001b[0;32mlambda\u001b[0m \u001b[0mx\u001b[0m\u001b[0;34m:\u001b[0m \u001b[0mpalette\u001b[0m\u001b[0;34m[\u001b[0m\u001b[0mx\u001b[0m\u001b[0;34m]\u001b[0m\u001b[0;34m,\u001b[0m \u001b[0my\u001b[0m\u001b[0;34m)\u001b[0m\u001b[0;34m)\u001b[0m\u001b[0;34m\u001b[0m\u001b[0;34m\u001b[0m\u001b[0m\n\u001b[0m\u001b[1;32m     24\u001b[0m \u001b[0mfig\u001b[0m \u001b[0;34m=\u001b[0m \u001b[0mplt\u001b[0m\u001b[0;34m.\u001b[0m\u001b[0mfigure\u001b[0m\u001b[0;34m(\u001b[0m\u001b[0mfigsize\u001b[0m\u001b[0;34m=\u001b[0m\u001b[0;34m(\u001b[0m\u001b[0;36m10\u001b[0m\u001b[0;34m,\u001b[0m \u001b[0;36m10\u001b[0m\u001b[0;34m)\u001b[0m\u001b[0;34m)\u001b[0m\u001b[0;34m\u001b[0m\u001b[0;34m\u001b[0m\u001b[0m\n\u001b[1;32m     25\u001b[0m \u001b[0max\u001b[0m \u001b[0;34m=\u001b[0m \u001b[0mfig\u001b[0m\u001b[0;34m.\u001b[0m\u001b[0msubplots\u001b[0m\u001b[0;34m(\u001b[0m\u001b[0;34m)\u001b[0m\u001b[0;34m\u001b[0m\u001b[0;34m\u001b[0m\u001b[0m\n",
      "\u001b[0;32m<ipython-input-2-61cdb66af652>\u001b[0m in \u001b[0;36m<lambda>\u001b[0;34m(x)\u001b[0m\n\u001b[1;32m     21\u001b[0m \u001b[0mX_embedded\u001b[0m \u001b[0;34m=\u001b[0m \u001b[0mTSNE\u001b[0m\u001b[0;34m(\u001b[0m\u001b[0mn_components\u001b[0m\u001b[0;34m=\u001b[0m\u001b[0;36m3\u001b[0m\u001b[0;34m)\u001b[0m\u001b[0;34m.\u001b[0m\u001b[0mfit_transform\u001b[0m\u001b[0;34m(\u001b[0m\u001b[0mx\u001b[0m\u001b[0;34m)\u001b[0m\u001b[0;34m\u001b[0m\u001b[0;34m\u001b[0m\u001b[0m\n\u001b[1;32m     22\u001b[0m \u001b[0mpalette\u001b[0m \u001b[0;34m=\u001b[0m \u001b[0;34m[\u001b[0m\u001b[0;34m'red'\u001b[0m\u001b[0;34m,\u001b[0m \u001b[0;34m'green'\u001b[0m\u001b[0;34m,\u001b[0m \u001b[0;34m'blue'\u001b[0m\u001b[0;34m,\u001b[0m \u001b[0;34m'gray'\u001b[0m\u001b[0;34m,\u001b[0m \u001b[0;34m'violet'\u001b[0m\u001b[0;34m,\u001b[0m \u001b[0;34m'black'\u001b[0m\u001b[0;34m,\u001b[0m \u001b[0;34m'yellow'\u001b[0m\u001b[0;34m,\u001b[0m \u001b[0;34m'brown'\u001b[0m\u001b[0;34m,\u001b[0m \u001b[0;34m'coral'\u001b[0m\u001b[0;34m,\u001b[0m \u001b[0;34m'darkgreen'\u001b[0m\u001b[0;34m,\u001b[0m \u001b[0;34m'cyan'\u001b[0m\u001b[0;34m]\u001b[0m\u001b[0;34m\u001b[0m\u001b[0;34m\u001b[0m\u001b[0m\n\u001b[0;32m---> 23\u001b[0;31m \u001b[0mcolors\u001b[0m \u001b[0;34m=\u001b[0m \u001b[0mlist\u001b[0m\u001b[0;34m(\u001b[0m\u001b[0mmap\u001b[0m\u001b[0;34m(\u001b[0m\u001b[0;32mlambda\u001b[0m \u001b[0mx\u001b[0m\u001b[0;34m:\u001b[0m \u001b[0mpalette\u001b[0m\u001b[0;34m[\u001b[0m\u001b[0mx\u001b[0m\u001b[0;34m]\u001b[0m\u001b[0;34m,\u001b[0m \u001b[0my\u001b[0m\u001b[0;34m)\u001b[0m\u001b[0;34m)\u001b[0m\u001b[0;34m\u001b[0m\u001b[0;34m\u001b[0m\u001b[0m\n\u001b[0m\u001b[1;32m     24\u001b[0m \u001b[0mfig\u001b[0m \u001b[0;34m=\u001b[0m \u001b[0mplt\u001b[0m\u001b[0;34m.\u001b[0m\u001b[0mfigure\u001b[0m\u001b[0;34m(\u001b[0m\u001b[0mfigsize\u001b[0m\u001b[0;34m=\u001b[0m\u001b[0;34m(\u001b[0m\u001b[0;36m10\u001b[0m\u001b[0;34m,\u001b[0m \u001b[0;36m10\u001b[0m\u001b[0;34m)\u001b[0m\u001b[0;34m)\u001b[0m\u001b[0;34m\u001b[0m\u001b[0;34m\u001b[0m\u001b[0m\n\u001b[1;32m     25\u001b[0m \u001b[0max\u001b[0m \u001b[0;34m=\u001b[0m \u001b[0mfig\u001b[0m\u001b[0;34m.\u001b[0m\u001b[0msubplots\u001b[0m\u001b[0;34m(\u001b[0m\u001b[0;34m)\u001b[0m\u001b[0;34m\u001b[0m\u001b[0;34m\u001b[0m\u001b[0m\n",
      "\u001b[0;31mTypeError\u001b[0m: list indices must be integers or slices, not numpy.float64"
     ]
    }
   ],
   "source": [
    "import numpy as np\n",
    "import pandas as pd\n",
    "from sklearn import preprocessing\n",
    "from sklearn.preprocessing import MinMaxScaler\n",
    "from numpy import linalg as LA\n",
    "from scipy import optimize\n",
    "import matplotlib.pyplot as plt\n",
    "\n",
    "df = pd.read_excel(\"./data/airport_line_airport_line_house_1_fixed.xlsx\", skiprows = range(0, 1))\n",
    "\n",
    "le = preprocessing.LabelEncoder()\n",
    "df['Date'] = le.fit_transform(df['Date'])\n",
    "# Scaling data\n",
    "scaler = MinMaxScaler()\n",
    "df[df.columns[1:]] = scaler.fit_transform(df[df.columns[1:]])\n",
    "# Prepare Dataset\n",
    "x = df[df.columns[1:]].values\n",
    "y = df[df.columns[1]].values\n",
    "    \n",
    "from sklearn.manifold import TSNE\n",
    "X_embedded = TSNE(n_components=3).fit_transform(x)\n",
    "palette = ['red', 'green', 'blue', 'gray', 'violet', 'black', 'yellow', 'brown', 'coral', 'darkgreen', 'cyan']\n",
    "colors = list(map(lambda x: palette[x], y))\n",
    "fig = plt.figure(figsize=(10, 10)) \n",
    "ax = fig.subplots()\n",
    "ax.scatter(X_embedded[:,0], X_embedded[:,1], c = colors)\n",
    "for i, text in enumerate(df['Date']):\n",
    "    ax.annotate(text, (X_embedded[i,0], X_embedded[i,1]))\n",
    "plt.show()\n"
   ]
  }
 ],
 "metadata": {
  "kernelspec": {
   "display_name": "Python 3",
   "language": "python",
   "name": "python3"
  },
  "language_info": {
   "codemirror_mode": {
    "name": "ipython",
    "version": 3
   },
   "file_extension": ".py",
   "mimetype": "text/x-python",
   "name": "python",
   "nbconvert_exporter": "python",
   "pygments_lexer": "ipython3",
   "version": "3.6.9"
  }
 },
 "nbformat": 4,
 "nbformat_minor": 2
}
